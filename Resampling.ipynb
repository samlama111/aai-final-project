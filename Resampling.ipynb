{
 "cells": [
  {
   "cell_type": "code",
   "execution_count": null,
   "id": "ee560ca0",
   "metadata": {},
   "outputs": [],
   "source": [
    "def class_func(features, label):\n",
    "  return label"
   ]
  },
  {
   "cell_type": "code",
   "execution_count": null,
   "id": "d4acdcd3",
   "metadata": {},
   "outputs": [],
   "source": [
    "resample_ds = (\n",
    "    data\n",
    "    .unbatch()\n",
    "    .rejection_resample(class_func, target_dist=[0.5,0.5])\n",
    ")\n",
    "balanced_ds = resample_ds.map(lambda extra_label, features_and_label: features_and_label)\n",
    "dataset = balanced_ds.batch(32)"
   ]
  }
 ],
 "metadata": {
  "kernelspec": {
   "display_name": "Python 3 (ipykernel)",
   "language": "python",
   "name": "python3"
  },
  "language_info": {
   "codemirror_mode": {
    "name": "ipython",
    "version": 3
   },
   "file_extension": ".py",
   "mimetype": "text/x-python",
   "name": "python",
   "nbconvert_exporter": "python",
   "pygments_lexer": "ipython3",
   "version": "3.10.4"
  }
 },
 "nbformat": 4,
 "nbformat_minor": 5
}
